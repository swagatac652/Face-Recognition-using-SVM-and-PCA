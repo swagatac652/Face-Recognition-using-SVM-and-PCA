{
 "cells": [
  {
   "cell_type": "code",
   "execution_count": 1,
   "metadata": {},
   "outputs": [],
   "source": [
    "import joblib\n",
    "model=joblib.load('SVM-FaceRec.sav')"
   ]
  },
  {
   "cell_type": "code",
   "execution_count": 2,
   "metadata": {},
   "outputs": [],
   "source": [
    "category_dict={0:'Barack Obama', 1:'Donald Trump', 2:'George W Bush'}"
   ]
  },
  {
   "cell_type": "code",
   "execution_count": 3,
   "metadata": {},
   "outputs": [
    {
     "name": "stdout",
     "output_type": "stream",
     "text": [
      "['barack-obama-12782369-1-402.jpg', 'barack-obama.jpeg', 'https___d1e00ek4ebabms.cloudfront.net_production_b8c5ac6e-d1ec-467a-b185-a5c7b2fc1c9b.jpg', 'president-george-w-bush-listens-to-a-question-during-a-news-news-photo-1591807580.jpg', 'screen_shot_2020-06-07_at_9.28.05_am.png', 'trump.jpg']\n"
     ]
    }
   ],
   "source": [
    "import os\n",
    "import cv2\n",
    "\n",
    "face_classifier=cv2.CascadeClassifier('haarcascade_frontalface_default.xml')\n",
    "\n",
    "test_data_path=\"test_data\"\n",
    "test_img_names=os.listdir(test_data_path)\n",
    "print(test_img_names)\n",
    "\n",
    "for test_img in test_img_names:\n",
    "    img_path=os.path.join(test_data_path,test_img)\n",
    "    test_img=cv2.imread(img_path)\n",
    "    gray=cv2.cvtColor(test_img,cv2.COLOR_BGR2GRAY)\n",
    "    faces=face_classifier.detectMultiScale(gray)\n",
    "    for (x,y,w,h) in faces:\n",
    "            cropped_face=gray[y:y+h,x:x+w]\n",
    "            cropped_face=cv2.resize(cropped_face,(50,50))\n",
    "            cropped_face=cropped_face.reshape(1,2500)\n",
    "            result=model.predict(cropped_face)[0]\n",
    "            name=category_dict[result]\n",
    "            \n",
    "            cv2.rectangle(test_img,(x,y),(x+w,y+h),(0,255,0),2)\n",
    "            cv2.putText(test_img,name,(x,y-10),cv2.FONT_HERSHEY_SIMPLEX,1.5,(0,255,0),2)\n",
    "    cv2.imshow('LIVE',test_img)\n",
    "    k=cv2.waitKey(10000)\n",
    "    if(k==27):\n",
    "        break\n",
    "cv2.destroyAllWindows();\n",
    "    "
   ]
  },
  {
   "cell_type": "code",
   "execution_count": null,
   "metadata": {},
   "outputs": [],
   "source": []
  },
  {
   "cell_type": "code",
   "execution_count": null,
   "metadata": {},
   "outputs": [],
   "source": []
  }
 ],
 "metadata": {
  "kernelspec": {
   "display_name": "Python 3",
   "language": "python",
   "name": "python3"
  },
  "language_info": {
   "codemirror_mode": {
    "name": "ipython",
    "version": 3
   },
   "file_extension": ".py",
   "mimetype": "text/x-python",
   "name": "python",
   "nbconvert_exporter": "python",
   "pygments_lexer": "ipython3",
   "version": "3.8.5"
  }
 },
 "nbformat": 4,
 "nbformat_minor": 4
}
